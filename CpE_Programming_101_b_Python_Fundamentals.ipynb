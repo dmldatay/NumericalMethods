{
  "nbformat": 4,
  "nbformat_minor": 0,
  "metadata": {
    "colab": {
      "name": "CpE Programming 101.b - Python Fundamentals",
      "provenance": [],
      "collapsed_sections": [],
      "include_colab_link": true
    },
    "kernelspec": {
      "name": "python3",
      "display_name": "Python 3"
    }
  },
  "cells": [
    {
      "cell_type": "markdown",
      "metadata": {
        "id": "view-in-github",
        "colab_type": "text"
      },
      "source": [
        "<a href=\"https://colab.research.google.com/github/dmldatay/NumericalMethods/blob/main/CpE_Programming_101_b_Python_Fundamentals.ipynb\" target=\"_parent\"><img src=\"https://colab.research.google.com/assets/colab-badge.svg\" alt=\"Open In Colab\"/></a>"
      ]
    },
    {
      "cell_type": "markdown",
      "metadata": {
        "id": "QnAdk8hy7Bl9"
      },
      "source": [
        "# Welcome to Python Fundamentals\r\n",
        "By:\r\n",
        "    *Datay, Danica Mae L.*\r\n",
        "    © 2021 \r\n",
        "\r\n",
        "  \r\n",
        "In this module, we are going to establish or review our skills in Python programming. In this notebook we are going to cover:\r\n",
        "* Variables and Data Types \r\n",
        "* Operations\r\n",
        "* Input and Output Operations\r\n",
        "* Logic Control\r\n",
        "* Iterables\r\n",
        "* Functions"
      ]
    },
    {
      "cell_type": "markdown",
      "metadata": {
        "id": "T6ABRAjTT1Ta"
      },
      "source": [
        "## Variable and Data Types\r\n",
        "To store values, variables are nothing but reserved memory locations. This implies that you reserve some memory space when creating a variable [1]. you can store any data types in a variable."
      ]
    },
    {
      "cell_type": "code",
      "metadata": {
        "id": "G8JI3DTZ616F"
      },
      "source": [
        "x = 1\r\n",
        "a,b = 0, -1"
      ],
      "execution_count": null,
      "outputs": []
    },
    {
      "cell_type": "markdown",
      "metadata": {
        "id": "0Hpg4d1ZPUKN"
      },
      "source": [
        "You can assign values to a variable by using equal sign '='. As you can see the example above, it use equal sign to store 1 to variable x."
      ]
    },
    {
      "cell_type": "code",
      "metadata": {
        "id": "QLT9rz2dUJ95",
        "colab": {
          "base_uri": "https://localhost:8080/"
        },
        "outputId": "e12c04b8-a031-4897-96d0-87a769cc3fbf"
      },
      "source": [
        "type(x)"
      ],
      "execution_count": null,
      "outputs": [
        {
          "output_type": "execute_result",
          "data": {
            "text/plain": [
              "int"
            ]
          },
          "metadata": {
            "tags": []
          },
          "execution_count": 2
        }
      ]
    },
    {
      "cell_type": "markdown",
      "metadata": {
        "id": "9qhphIJnQH0w"
      },
      "source": [
        "type() is a function that determines the type of data that store inside the variable. As you can see the example above, the data type of the value stored in variable x is int or integer."
      ]
    },
    {
      "cell_type": "code",
      "metadata": {
        "id": "TR_rvX4SUWqx",
        "colab": {
          "base_uri": "https://localhost:8080/"
        },
        "outputId": "24278b1a-c185-4427-9252-c6fb083f72f7"
      },
      "source": [
        "y = 1.0\r\n",
        "type(y)"
      ],
      "execution_count": null,
      "outputs": [
        {
          "output_type": "execute_result",
          "data": {
            "text/plain": [
              "float"
            ]
          },
          "metadata": {
            "tags": []
          },
          "execution_count": 3
        }
      ]
    },
    {
      "cell_type": "code",
      "metadata": {
        "id": "FqV2upOiXcnC",
        "colab": {
          "base_uri": "https://localhost:8080/"
        },
        "outputId": "4923f31d-b5ce-47e8-e8d0-cbc63044af14"
      },
      "source": [
        "x = float(x)\r\n",
        "type(x)"
      ],
      "execution_count": null,
      "outputs": [
        {
          "output_type": "execute_result",
          "data": {
            "text/plain": [
              "float"
            ]
          },
          "metadata": {
            "tags": []
          },
          "execution_count": 4
        }
      ]
    },
    {
      "cell_type": "markdown",
      "metadata": {
        "id": "jiohwjMHS0oD"
      },
      "source": [
        "As you can see the example above, you can change the data type of the stored value. It changed the int value to float."
      ]
    },
    {
      "cell_type": "code",
      "metadata": {
        "id": "2tuyqwmyXiDb",
        "colab": {
          "base_uri": "https://localhost:8080/"
        },
        "outputId": "77cf5a1e-914a-4bd2-bea8-d29a38980a43"
      },
      "source": [
        "s,t,u = \"0\", '1', 'one'\r\n",
        "type(s)"
      ],
      "execution_count": null,
      "outputs": [
        {
          "output_type": "execute_result",
          "data": {
            "text/plain": [
              "str"
            ]
          },
          "metadata": {
            "tags": []
          },
          "execution_count": 5
        }
      ]
    },
    {
      "cell_type": "code",
      "metadata": {
        "id": "6JwWqHx3XlmB",
        "colab": {
          "base_uri": "https://localhost:8080/"
        },
        "outputId": "43bb707c-96ab-42cd-e49a-80694333735e"
      },
      "source": [
        "s_int = int(s)\r\n",
        "s_int"
      ],
      "execution_count": null,
      "outputs": [
        {
          "output_type": "execute_result",
          "data": {
            "text/plain": [
              "0"
            ]
          },
          "metadata": {
            "tags": []
          },
          "execution_count": 6
        }
      ]
    },
    {
      "cell_type": "markdown",
      "metadata": {
        "id": "9RgPwQR4YVG5"
      },
      "source": [
        "## Operations"
      ]
    },
    {
      "cell_type": "markdown",
      "metadata": {
        "id": "mvoS_zuJYbsg"
      },
      "source": [
        "### Arithmetic\r\n",
        "Arithmetic or Arithmetic operators are used to perform mathematical operation such as addition, subtraction, multiplication, division, etc., [2]"
      ]
    },
    {
      "cell_type": "code",
      "metadata": {
        "id": "DSjUO0KcYoE-"
      },
      "source": [
        "a,b,c,d = 2.0, -0.5, 0, -32"
      ],
      "execution_count": null,
      "outputs": []
    },
    {
      "cell_type": "code",
      "metadata": {
        "id": "o_kk0XFzYX9o",
        "colab": {
          "base_uri": "https://localhost:8080/"
        },
        "outputId": "db94c605-ec14-4d1b-d32a-cc0435b5018a"
      },
      "source": [
        "### Addition\r\n",
        "S = a+b\r\n",
        "S"
      ],
      "execution_count": null,
      "outputs": [
        {
          "output_type": "execute_result",
          "data": {
            "text/plain": [
              "1.5"
            ]
          },
          "metadata": {
            "tags": []
          },
          "execution_count": 8
        }
      ]
    },
    {
      "cell_type": "markdown",
      "metadata": {
        "id": "42jvk5yKWOiP"
      },
      "source": [
        "' + ' is an arithmetic operator that adding 2 or more operands. [2]"
      ]
    },
    {
      "cell_type": "code",
      "metadata": {
        "id": "TC5oFq3MY4jk",
        "colab": {
          "base_uri": "https://localhost:8080/"
        },
        "outputId": "d6998db8-5ebe-43d3-dfb5-661156d2b0f7"
      },
      "source": [
        "### Subtraction\r\n",
        "D = b-d\r\n",
        "D"
      ],
      "execution_count": null,
      "outputs": [
        {
          "output_type": "execute_result",
          "data": {
            "text/plain": [
              "31.5"
            ]
          },
          "metadata": {
            "tags": []
          },
          "execution_count": 9
        }
      ]
    },
    {
      "cell_type": "markdown",
      "metadata": {
        "id": "at_ZUExXWRk1"
      },
      "source": [
        "' - ' is an arithmetic operator that subtract 2 or more operands. [2]"
      ]
    },
    {
      "cell_type": "code",
      "metadata": {
        "id": "j0bGayj5Y9wr",
        "colab": {
          "base_uri": "https://localhost:8080/"
        },
        "outputId": "227d3d3a-3878-4ac7-f4e1-3571bc5a51f6"
      },
      "source": [
        "### Multiplication\r\n",
        "P = a*d\r\n",
        "P"
      ],
      "execution_count": null,
      "outputs": [
        {
          "output_type": "execute_result",
          "data": {
            "text/plain": [
              "-64.0"
            ]
          },
          "metadata": {
            "tags": []
          },
          "execution_count": 10
        }
      ]
    },
    {
      "cell_type": "markdown",
      "metadata": {
        "id": "4srkgQuRWaeF"
      },
      "source": [
        "' * ' is an arithmetic operator that multiply 2 or more operands. [2]"
      ]
    },
    {
      "cell_type": "code",
      "metadata": {
        "id": "FnMWmq5LZLEU",
        "colab": {
          "base_uri": "https://localhost:8080/"
        },
        "outputId": "837ee755-4362-47fc-be42-ba225aa8c6b5"
      },
      "source": [
        "### Division\r\n",
        "Q = c/a\r\n",
        "Q"
      ],
      "execution_count": null,
      "outputs": [
        {
          "output_type": "execute_result",
          "data": {
            "text/plain": [
              "0.0"
            ]
          },
          "metadata": {
            "tags": []
          },
          "execution_count": 11
        }
      ]
    },
    {
      "cell_type": "markdown",
      "metadata": {
        "id": "aYVM4QQtWg9n"
      },
      "source": [
        "' / ' is an arithmetic operator that divide the first operand to the second operand. [2]"
      ]
    },
    {
      "cell_type": "code",
      "metadata": {
        "id": "cQeVcFIWZd8o",
        "colab": {
          "base_uri": "https://localhost:8080/"
        },
        "outputId": "e79edcf9-318f-4df5-d55c-7cfca601966e"
      },
      "source": [
        "### Floor Division\r\n",
        "Fq = a//b\r\n",
        "Fq"
      ],
      "execution_count": null,
      "outputs": [
        {
          "output_type": "execute_result",
          "data": {
            "text/plain": [
              "-4.0"
            ]
          },
          "metadata": {
            "tags": []
          },
          "execution_count": 12
        }
      ]
    },
    {
      "cell_type": "markdown",
      "metadata": {
        "id": "y8Z-hqpxWm8X"
      },
      "source": [
        "' // ' is an arithmetic operator that divide the first operand to the second operand. The difference of division to floor division is that the result of floor division is a whole number [2]. If the decimal is 1-4, the answer will rounded off but if the decimal is 5-9, the answer will not rounded off."
      ]
    },
    {
      "cell_type": "code",
      "metadata": {
        "id": "YLaUu6APZSzR",
        "colab": {
          "base_uri": "https://localhost:8080/"
        },
        "outputId": "8023a463-b178-4b19-da9d-302029a2ec3f"
      },
      "source": [
        "### Exponentiation\r\n",
        "E = a**b\r\n",
        "E"
      ],
      "execution_count": null,
      "outputs": [
        {
          "output_type": "execute_result",
          "data": {
            "text/plain": [
              "0.7071067811865476"
            ]
          },
          "metadata": {
            "tags": []
          },
          "execution_count": 13
        }
      ]
    },
    {
      "cell_type": "markdown",
      "metadata": {
        "id": "i6nVdaXEWtcv"
      },
      "source": [
        "' ** ' is an arithmetic operator that raise the second operand to the first operand. [2]"
      ]
    },
    {
      "cell_type": "code",
      "metadata": {
        "id": "uf_0sf4CZ1JT",
        "colab": {
          "base_uri": "https://localhost:8080/"
        },
        "outputId": "71ea04aa-8d68-4be6-ac0f-29b11c2c0fc3"
      },
      "source": [
        "### Modulo\r\n",
        "mod = d%a\r\n",
        "mod"
      ],
      "execution_count": null,
      "outputs": [
        {
          "output_type": "execute_result",
          "data": {
            "text/plain": [
              "0.0"
            ]
          },
          "metadata": {
            "tags": []
          },
          "execution_count": 14
        }
      ]
    },
    {
      "cell_type": "markdown",
      "metadata": {
        "id": "hB02Xe-UWzuC"
      },
      "source": [
        "' % ' is an arithmetic operator that returns the remainder when first operand is divided by the second operand."
      ]
    },
    {
      "cell_type": "markdown",
      "metadata": {
        "id": "afyWvb1ZaJJ6"
      },
      "source": [
        "### Assignment Operations\r\n",
        "Assignment operators are used to assigning values to existing variable. [3]"
      ]
    },
    {
      "cell_type": "code",
      "metadata": {
        "id": "rMZ8r4WhanaE"
      },
      "source": [
        "G, H, J, K = 0, 100, 2, 2"
      ],
      "execution_count": null,
      "outputs": []
    },
    {
      "cell_type": "code",
      "metadata": {
        "id": "IX0EbJ8RaMih",
        "colab": {
          "base_uri": "https://localhost:8080/"
        },
        "outputId": "78955dc7-a5bb-4d8d-f3ff-c02d2526f496"
      },
      "source": [
        "G += a\r\n",
        "G"
      ],
      "execution_count": null,
      "outputs": [
        {
          "output_type": "execute_result",
          "data": {
            "text/plain": [
              "2.0"
            ]
          },
          "metadata": {
            "tags": []
          },
          "execution_count": 22
        }
      ]
    },
    {
      "cell_type": "markdown",
      "metadata": {
        "id": "N2FLd6beXX-I"
      },
      "source": [
        "This operator add the value of variable G which is 0 to the value of variable a which is 2.0 then assign the answer to variable G."
      ]
    },
    {
      "cell_type": "code",
      "metadata": {
        "id": "aIj4hA-JaRA0",
        "colab": {
          "base_uri": "https://localhost:8080/"
        },
        "outputId": "9eb2a086-c830-4d5e-c9d1-1496b4252725"
      },
      "source": [
        "H -= d\r\n",
        "H"
      ],
      "execution_count": null,
      "outputs": [
        {
          "output_type": "execute_result",
          "data": {
            "text/plain": [
              "132"
            ]
          },
          "metadata": {
            "tags": []
          },
          "execution_count": 23
        }
      ]
    },
    {
      "cell_type": "markdown",
      "metadata": {
        "id": "ImeuTGAPXoxF"
      },
      "source": [
        "This operator subtract the value of variable H which is 100 to the value of variable d which is -32 then assign the answer to variable H."
      ]
    },
    {
      "cell_type": "code",
      "metadata": {
        "id": "vuuDbAbNaXgS",
        "colab": {
          "base_uri": "https://localhost:8080/"
        },
        "outputId": "f1284ebf-a85c-4647-a25a-447ad3195eb9"
      },
      "source": [
        "J *= 2\r\n",
        "J"
      ],
      "execution_count": null,
      "outputs": [
        {
          "output_type": "execute_result",
          "data": {
            "text/plain": [
              "4"
            ]
          },
          "metadata": {
            "tags": []
          },
          "execution_count": 24
        }
      ]
    },
    {
      "cell_type": "markdown",
      "metadata": {
        "id": "VpPtenaEYK4y"
      },
      "source": [
        "This operator multiply the value of variable J which is 2 by integer 2 then assign the answer to variable J."
      ]
    },
    {
      "cell_type": "code",
      "metadata": {
        "id": "sGVXGduUaeAj"
      },
      "source": [
        "K **= 2\r\n",
        "K"
      ],
      "execution_count": null,
      "outputs": []
    },
    {
      "cell_type": "markdown",
      "metadata": {
        "id": "J1pZEYjKYbXD"
      },
      "source": [
        "This operator raise the integer 2 to the value of variable K which is 2 then assign the answer to variable K."
      ]
    },
    {
      "cell_type": "markdown",
      "metadata": {
        "id": "UGXuqhVNbW7R"
      },
      "source": [
        "### Comparators\r\n",
        "The values on each side of them are compared by these operators and the relationship between them is determined. It also called Relational operators [4]."
      ]
    },
    {
      "cell_type": "code",
      "metadata": {
        "id": "Oj9xLaEaYeuY"
      },
      "source": [
        "res_1, res_2, res_3 = 1, 2.0, \"1\"\r\n",
        "true_val = 1.0"
      ],
      "execution_count": null,
      "outputs": []
    },
    {
      "cell_type": "code",
      "metadata": {
        "id": "GEXm6RSsbA8Q",
        "colab": {
          "base_uri": "https://localhost:8080/"
        },
        "outputId": "2540e392-9c87-4223-d23c-1c02c7ad3d7c"
      },
      "source": [
        "## Equality\r\n",
        "res_1 == true_val"
      ],
      "execution_count": null,
      "outputs": [
        {
          "output_type": "execute_result",
          "data": {
            "text/plain": [
              "True"
            ]
          },
          "metadata": {
            "tags": []
          },
          "execution_count": 26
        }
      ]
    },
    {
      "cell_type": "markdown",
      "metadata": {
        "id": "OFo1oMBUcW1h"
      },
      "source": [
        "'==' is a comparison operator that check the equality of the two operands. As you can see the example above, the answer is True because res_1 and true_val are having the same value."
      ]
    },
    {
      "cell_type": "code",
      "metadata": {
        "id": "SdHk_b58bZhD",
        "colab": {
          "base_uri": "https://localhost:8080/"
        },
        "outputId": "e5eedc87-16b8-4642-e2dd-0ab0d05efb8e"
      },
      "source": [
        "## Non-equality\r\n",
        "res_2 != true_val"
      ],
      "execution_count": null,
      "outputs": [
        {
          "output_type": "execute_result",
          "data": {
            "text/plain": [
              "True"
            ]
          },
          "metadata": {
            "tags": []
          },
          "execution_count": 27
        }
      ]
    },
    {
      "cell_type": "markdown",
      "metadata": {
        "id": "emw5kh7GddWp"
      },
      "source": [
        "'!=' is a comparison operator that check if the values of two operands are not the same. As you can see the example above, The answer is True because res_2 and true_val have different value."
      ]
    },
    {
      "cell_type": "code",
      "metadata": {
        "id": "EnA4q50JbQB5",
        "colab": {
          "base_uri": "https://localhost:8080/"
        },
        "outputId": "b548139d-0401-4354-bf2a-8ab74fb8dd41"
      },
      "source": [
        "## Inequality\r\n",
        "t1 = res_1 > res_2\r\n",
        "t2 = res_1 < res_2/2\r\n",
        "t3 = res_1 >= res_2/2\r\n",
        "t4 = res_1 <= res_2  \r\n",
        "print(t1)\r\n",
        "print(t2)\r\n",
        "print(t3)\r\n",
        "print(t4)"
      ],
      "execution_count": null,
      "outputs": [
        {
          "output_type": "stream",
          "text": [
            "False\n",
            "False\n",
            "True\n",
            "True\n"
          ],
          "name": "stdout"
        }
      ]
    },
    {
      "cell_type": "markdown",
      "metadata": {
        "id": "UAbSOgv_gFLp"
      },
      "source": [
        "'>' is a comparison operator that check if the left operand is greater than the right operand. t1 is false because res_1 is not grater than the res_2.\r\n",
        "\r\n",
        "'<' is a comparison operator that check if the left operand is less than the right operand. t2 is false because res_1 which is 1 and res_2/2 is also therefore, res_1 is not less that the res_2/2 becauses they are equal.\r\n",
        "\r\n",
        "'>=' is a comparison operator that check if the left operand is greater than or equal to the right operand. t3 is true because res_1 and res_2/2 is equal.\r\n",
        "\r\n",
        "'<=' is a comparison operator that check if the left operand is less than or equal to the right operand. t4 is true because res_1 is less than res_2."
      ]
    },
    {
      "cell_type": "markdown",
      "metadata": {
        "id": "9WkfdvbfcC1Y"
      },
      "source": [
        "### Logical\r\n",
        "\r\n",
        "Logical operators are used to perform operations on values and variables. These are the special symbols that carry out arithmetic and logical computations. The value the operator operates on is known as Operand. [5]"
      ]
    },
    {
      "cell_type": "code",
      "metadata": {
        "id": "cYVG6YeNb-Gz",
        "colab": {
          "base_uri": "https://localhost:8080/"
        },
        "outputId": "4a09a4e8-c2fe-428e-c58b-22226d29e98a"
      },
      "source": [
        "res_1 == true_val"
      ],
      "execution_count": null,
      "outputs": [
        {
          "output_type": "execute_result",
          "data": {
            "text/plain": [
              "True"
            ]
          },
          "metadata": {
            "tags": []
          },
          "execution_count": 34
        }
      ]
    },
    {
      "cell_type": "code",
      "metadata": {
        "id": "rLe6hpkHcN-z",
        "colab": {
          "base_uri": "https://localhost:8080/"
        },
        "outputId": "7ba9a3b2-bcdb-44aa-e0e0-0135426967c1"
      },
      "source": [
        "res_1 is true_val"
      ],
      "execution_count": null,
      "outputs": [
        {
          "output_type": "execute_result",
          "data": {
            "text/plain": [
              "False"
            ]
          },
          "metadata": {
            "tags": []
          },
          "execution_count": 35
        }
      ]
    },
    {
      "cell_type": "markdown",
      "metadata": {
        "id": "2an17Zg8kz40"
      },
      "source": [
        "The diffenrence between equality sign '==' and 'is' is that equality sign only check if the value is the same and 'is' check the value and data type at the same time. Integer and float are different to each other therefore the answer above is false."
      ]
    },
    {
      "cell_type": "code",
      "metadata": {
        "id": "tr5qxHQmcO-C",
        "colab": {
          "base_uri": "https://localhost:8080/"
        },
        "outputId": "fe05bcac-f979-4101-959c-e31aaf6d3a21"
      },
      "source": [
        "res_1 is not true_val"
      ],
      "execution_count": null,
      "outputs": [
        {
          "output_type": "execute_result",
          "data": {
            "text/plain": [
              "True"
            ]
          },
          "metadata": {
            "tags": []
          },
          "execution_count": 36
        }
      ]
    },
    {
      "cell_type": "code",
      "metadata": {
        "id": "3GU72N-Gcslz",
        "colab": {
          "base_uri": "https://localhost:8080/"
        },
        "outputId": "2f6f8ef5-c792-4beb-d130-94abb81ba060"
      },
      "source": [
        "p, q = True, False\r\n",
        "conj = p and q\r\n",
        "conj"
      ],
      "execution_count": null,
      "outputs": [
        {
          "output_type": "execute_result",
          "data": {
            "text/plain": [
              "False"
            ]
          },
          "metadata": {
            "tags": []
          },
          "execution_count": 37
        }
      ]
    },
    {
      "cell_type": "markdown",
      "metadata": {
        "id": "xthnuKa4mkFY"
      },
      "source": [
        "' and ' is a logical operator that will give you an output 'True' if the given input is both true. In layman's term,\r\n",
        "\r\n",
        "\r\n",
        "\r\n",
        "1.   true & true = true\r\n",
        "2.   true & false = false\r\n",
        "3.   false & true = false\r\n",
        "4.   false & false = false\r\n",
        "\r\n",
        "\r\n",
        "As you can see at the example above, the value of variables is True and False, so the given output is Flase."
      ]
    },
    {
      "cell_type": "code",
      "metadata": {
        "id": "ihMxcT6KcvQj",
        "colab": {
          "base_uri": "https://localhost:8080/"
        },
        "outputId": "baa36abd-571e-4983-bdc3-7aad5f6fe394"
      },
      "source": [
        "p, q = True, False\r\n",
        "disj = p or q\r\n",
        "disj"
      ],
      "execution_count": null,
      "outputs": [
        {
          "output_type": "execute_result",
          "data": {
            "text/plain": [
              "True"
            ]
          },
          "metadata": {
            "tags": []
          },
          "execution_count": 38
        }
      ]
    },
    {
      "cell_type": "markdown",
      "metadata": {
        "id": "cFhKPhPCm8VF"
      },
      "source": [
        "' or ' is a logical operator that will give you an output 'True' if one or both given input is true. In layman's term,\r\n",
        "\r\n",
        "\r\n",
        "\r\n",
        "1.   true & true = true\r\n",
        "2.   true & false = true\r\n",
        "3.   false & true = true\r\n",
        "4.   false & false = false\r\n",
        "\r\n",
        "\r\n",
        "As you can see at the example above, the value of variables are true and false, so the given output is True."
      ]
    },
    {
      "cell_type": "code",
      "metadata": {
        "id": "T-QfmeYgcyGQ",
        "colab": {
          "base_uri": "https://localhost:8080/"
        },
        "outputId": "7b342799-d05f-4915-b699-543acb0fdb16"
      },
      "source": [
        "p, q = True, False\r\n",
        "nand = not(p and q)\r\n",
        "nand"
      ],
      "execution_count": null,
      "outputs": [
        {
          "output_type": "execute_result",
          "data": {
            "text/plain": [
              "True"
            ]
          },
          "metadata": {
            "tags": []
          },
          "execution_count": 39
        }
      ]
    },
    {
      "cell_type": "markdown",
      "metadata": {
        "id": "sELuiLNnnaYl"
      },
      "source": [
        "' nand ' is a logical operator that will invert the given value of 'and' give you an output 'False' if the given input is both True. In layman's term,\r\n",
        "\r\n",
        "\r\n",
        "\r\n",
        "1.   true & true = false\r\n",
        "2.   true & false = true\r\n",
        "3.   false & true = true\r\n",
        "4.   false & false = true\r\n",
        "\r\n",
        "\r\n",
        "As you can see at the example above, the value of variables are true and false, so the given output is True. If you will notice, the given list on 'and' operator is inverted on 'nand' operator."
      ]
    },
    {
      "cell_type": "code",
      "metadata": {
        "id": "2HL7SlVbc10k",
        "colab": {
          "base_uri": "https://localhost:8080/"
        },
        "outputId": "028378fa-2f00-4ac2-b741-ff95c800ca01"
      },
      "source": [
        "p, q = True, False\r\n",
        "xor = (not p and q) or (p and not q)\r\n",
        "xor"
      ],
      "execution_count": null,
      "outputs": [
        {
          "output_type": "execute_result",
          "data": {
            "text/plain": [
              "True"
            ]
          },
          "metadata": {
            "tags": []
          },
          "execution_count": 40
        }
      ]
    },
    {
      "cell_type": "markdown",
      "metadata": {
        "id": "lJKBKvqznvtp"
      },
      "source": [
        "'xor' or exclusive-OR is a logical operator that operates in the same way as the logical \"either/or.\" If either, but not both, of the inputs are \"true\" the output is \"true.\" The output is \"false\" if both inputs are \"false\" or if both inputs are \"true.\""
      ]
    },
    {
      "cell_type": "markdown",
      "metadata": {
        "id": "AQx4DKafYffJ"
      },
      "source": [
        "### I/O"
      ]
    },
    {
      "cell_type": "code",
      "metadata": {
        "id": "Q-DVERG5Yk9w",
        "colab": {
          "base_uri": "https://localhost:8080/"
        },
        "outputId": "427f021b-1e4a-4518-bba4-69e23fefe19c"
      },
      "source": [
        "print(\"Hello World\")"
      ],
      "execution_count": null,
      "outputs": [
        {
          "output_type": "stream",
          "text": [
            "Hello World\n"
          ],
          "name": "stdout"
        }
      ]
    },
    {
      "cell_type": "markdown",
      "metadata": {
        "id": "UCMjOgK7Hy1K"
      },
      "source": [
        "print() is a function that display the desired output that you want to show. As per example above, Sir Dylan wants to display the string \"hello world\" and he use print() function to present it."
      ]
    },
    {
      "cell_type": "code",
      "metadata": {
        "id": "fS5wN51beSVF"
      },
      "source": [
        "cnt = 1"
      ],
      "execution_count": null,
      "outputs": []
    },
    {
      "cell_type": "code",
      "metadata": {
        "id": "hKNaUXmdZdUo",
        "colab": {
          "base_uri": "https://localhost:8080/"
        },
        "outputId": "b7fd0505-f10f-4da4-8016-3c0b0959122c"
      },
      "source": [
        "string = \"Hello World\"\r\n",
        "print(string, \", Current run count is:\", cnt)\r\n",
        "cnt += 1"
      ],
      "execution_count": null,
      "outputs": [
        {
          "output_type": "stream",
          "text": [
            "Hello World , Current run count is: 1\n"
          ],
          "name": "stdout"
        }
      ]
    },
    {
      "cell_type": "code",
      "metadata": {
        "id": "15_WdzEZcOVX"
      },
      "source": [
        "print(f\"{string}, Current count is: {cnt}\")"
      ],
      "execution_count": null,
      "outputs": []
    },
    {
      "cell_type": "code",
      "metadata": {
        "id": "5m9XtFOPcOXo"
      },
      "source": [
        "sem_grade = 82.243564657461234\r\n",
        "name = \"\"\r\n",
        "print(\"Hello {}, your semestral grade is: {}\".format(name, sem_grade))"
      ],
      "execution_count": null,
      "outputs": []
    },
    {
      "cell_type": "markdown",
      "metadata": {
        "id": "LiJ5v7S0Lypy"
      },
      "source": [
        "This is another type of printing an output. Is is called format string method to look attractive."
      ]
    },
    {
      "cell_type": "code",
      "metadata": {
        "id": "SMJx6bTnfdgZ"
      },
      "source": [
        "w_pg, w_mg, w_fg = 0.3, 0.3, 0.4\r\n",
        "print(\"The weights of your semestral grades are:\\\r\n",
        "\\n\\t{:.2%} for Prelims\\\r\n",
        "\\n\\t{:.2%} for Midterms, and\\\r\n",
        "\\n\\t{:.2%} for Finals.\".format(w_pg, w_mg, w_fg))"
      ],
      "execution_count": null,
      "outputs": []
    },
    {
      "cell_type": "markdown",
      "metadata": {
        "id": "2Rlbck2FOV0A"
      },
      "source": [
        "Using format string to display the weights of semestral grade."
      ]
    },
    {
      "cell_type": "code",
      "metadata": {
        "id": "Ob2I_zR3jAcZ"
      },
      "source": [
        "x = input(\"enter a number: \")\r\n",
        "x"
      ],
      "execution_count": null,
      "outputs": []
    },
    {
      "cell_type": "markdown",
      "metadata": {
        "id": "2TwlSZH0Sjy3"
      },
      "source": [
        "input() is a function that is used to let the user input their desired value."
      ]
    },
    {
      "cell_type": "code",
      "metadata": {
        "id": "T7ODFfcMh9Pg"
      },
      "source": [
        "name = input(\"Kimi no nawa: \")\r\n",
        "pg = input(\"Enter prelim grade: \")\r\n",
        "mg = input(\"Enter midterm grade: \")\r\n",
        "fg = input(\"Enter finals grade: \")\r\n",
        "sem_grade = None\r\n",
        "print(\"Hello {}, your semestral grade is: {}\".format(name, sem_grade))"
      ],
      "execution_count": null,
      "outputs": []
    },
    {
      "cell_type": "markdown",
      "metadata": {
        "id": "i0g3EothhvqL"
      },
      "source": [
        "# Looping Statements"
      ]
    },
    {
      "cell_type": "markdown",
      "metadata": {
        "id": "j4w90VAIjcFJ"
      },
      "source": [
        "## While"
      ]
    },
    {
      "cell_type": "code",
      "metadata": {
        "id": "4vtSrBPThlse",
        "colab": {
          "base_uri": "https://localhost:8080/"
        },
        "outputId": "58fa250c-3345-45f4-ee56-fd6fd6165e67"
      },
      "source": [
        "## while loops\r\n",
        "i, j = 0, 10\r\n",
        "while(i<=j):\r\n",
        "    print(f\"{i}\\t|\\t{j}\")\r\n",
        "    i+=1"
      ],
      "execution_count": null,
      "outputs": [
        {
          "output_type": "stream",
          "text": [
            "0\t|\t10\n",
            "1\t|\t10\n",
            "2\t|\t10\n",
            "3\t|\t10\n",
            "4\t|\t10\n",
            "5\t|\t10\n",
            "6\t|\t10\n",
            "7\t|\t10\n",
            "8\t|\t10\n",
            "9\t|\t10\n",
            "10\t|\t10\n"
          ],
          "name": "stdout"
        }
      ]
    },
    {
      "cell_type": "markdown",
      "metadata": {
        "id": "Mb5o5E7tuBDp"
      },
      "source": [
        "The while loop is used to iterate over a block of code as long as the test expression (condition) is true [8]. As you can see the example above, the condition is i which is 0 is less than or equal to j which is 10. i is incremented therefore, the loop will come to an end when i will equal to 10."
      ]
    },
    {
      "cell_type": "markdown",
      "metadata": {
        "id": "Qz6AH6jRjfUg"
      },
      "source": [
        "## For"
      ]
    },
    {
      "cell_type": "code",
      "metadata": {
        "id": "q0DUwfRkjZY7",
        "colab": {
          "base_uri": "https://localhost:8080/"
        },
        "outputId": "2b6fc218-34fa-4107-affe-f6b135457f17"
      },
      "source": [
        "# for(int i=0; i<10; i++){\r\n",
        "# printf(i)\r\n",
        "# }\r\n",
        "\r\n",
        "i=0\r\n",
        "for i in range(10):\r\n",
        "    print(i)"
      ],
      "execution_count": null,
      "outputs": [
        {
          "output_type": "stream",
          "text": [
            "0\n",
            "1\n",
            "2\n",
            "3\n",
            "4\n",
            "5\n",
            "6\n",
            "7\n",
            "8\n",
            "9\n"
          ],
          "name": "stdout"
        }
      ]
    },
    {
      "cell_type": "markdown",
      "metadata": {
        "id": "OOqmv1CbnXkI"
      },
      "source": [
        "The for loop in Python is used to iterate over a sequence (list, tuple, string) or other iterable objects. Iterating over a sequence is called traversal [9]. It will repeat over and over again until it reached the given range. As per the example above, the variable i is repeatedly print until it reached the given range which is 10. the ouput value is on 9 only because 0 is included as 1st range."
      ]
    },
    {
      "cell_type": "code",
      "metadata": {
        "id": "zaM--lUhjiUg"
      },
      "source": [
        "playlist = []\r\n",
        "print('Now Playing:\\n')\r\n",
        "for song in playlist:\r\n",
        "    print(song)"
      ],
      "execution_count": null,
      "outputs": []
    },
    {
      "cell_type": "markdown",
      "metadata": {
        "id": "N6jTqTZojnSg"
      },
      "source": [
        "# Flow Control"
      ]
    },
    {
      "cell_type": "markdown",
      "metadata": {
        "id": "uhnsV2CijrWQ"
      },
      "source": [
        "## Condition Statements"
      ]
    },
    {
      "cell_type": "code",
      "metadata": {
        "id": "seJplrJojmTg"
      },
      "source": [
        "numeral1, numeral2 = 12, 12\r\n",
        "if(numeral1 == numeral2):\r\n",
        "    print(\"Yey\")\r\n",
        "elif(numeral1>numeral2):\r\n",
        "    print(\"Hoho\")\r\n",
        "else:\r\n",
        "    print(\"Aww\")\r\n",
        "print(\"Hip hip\")"
      ],
      "execution_count": null,
      "outputs": []
    },
    {
      "cell_type": "markdown",
      "metadata": {
        "id": "fQjMEm5XCT9b"
      },
      "source": [
        "If, elif, and else is a conditional statement that is used for decision making."
      ]
    },
    {
      "cell_type": "markdown",
      "metadata": {
        "id": "tlnG1OKilNLo"
      },
      "source": [
        "# Functions\r\n",
        "A function is a block of code which only runs when it is called.\r\n",
        "You can pass data, known as parameters, into a function.\r\n",
        "A function can return data as a result."
      ]
    },
    {
      "cell_type": "code",
      "metadata": {
        "id": "1iMUEipnlUKY"
      },
      "source": [
        "# void DeleteUser(int userid){\r\n",
        "#     delete(userid);\r\n",
        "# }\r\n",
        "\r\n",
        "def delete_user (userid):\r\n",
        "    print(\"Successfully deleted user: {}\".format(userid))\r\n",
        "    \r\n",
        "def delete_all_users ():\r\n",
        "    print(\"Successfully deleted all users\")"
      ],
      "execution_count": null,
      "outputs": []
    },
    {
      "cell_type": "code",
      "metadata": {
        "id": "v_TkrftylUEA"
      },
      "source": [
        "userid = 0\r\n",
        "delete_user(0)\r\n",
        "delete_all_users()"
      ],
      "execution_count": null,
      "outputs": []
    },
    {
      "cell_type": "code",
      "metadata": {
        "id": "M0ffjw31lT8Y",
        "colab": {
          "base_uri": "https://localhost:8080/",
          "height": 0
        },
        "outputId": "326c8d99-8917-41b3-ef5c-aa79be2c6154"
      },
      "source": [
        "def add(addend1, addend2):\r\n",
        "    return addend1 + addend2\r\n",
        "\r\n",
        "def power_of_base2(exponent):\r\n",
        "    return 2**exponent\r\n",
        "\r\n",
        "add(1,2)"
      ],
      "execution_count": 17,
      "outputs": [
        {
          "output_type": "execute_result",
          "data": {
            "text/plain": [
              "3"
            ]
          },
          "metadata": {
            "tags": []
          },
          "execution_count": 17
        }
      ]
    },
    {
      "cell_type": "markdown",
      "metadata": {
        "id": "2_tDT01oFEGQ"
      },
      "source": [
        "### Lambda Functions\r\n",
        "A lambda function is a small anonymous function. It can only have one expression while able to take any number of arguments. [11]"
      ]
    },
    {
      "cell_type": "code",
      "metadata": {
        "id": "tmmBNW9pFg-4"
      },
      "source": [
        "x = 4"
      ],
      "execution_count": null,
      "outputs": []
    },
    {
      "cell_type": "code",
      "metadata": {
        "id": "_9KYzCrIFCpI"
      },
      "source": [
        "def f(x):\r\n",
        "  return 2*(x*x)-1\r\n",
        "f(x)"
      ],
      "execution_count": null,
      "outputs": []
    },
    {
      "cell_type": "code",
      "metadata": {
        "id": "a2uwKwqFFafn"
      },
      "source": [
        "g = lambda x: 2*(x*x)-1\r\n",
        "print(g(x))"
      ],
      "execution_count": null,
      "outputs": []
    },
    {
      "cell_type": "code",
      "metadata": {
        "id": "Rjm9RFrGlMgA"
      },
      "source": [
        "'''\r\n",
        "Create a grade calculator that computes for the semestral grade of a course.\r\n",
        "Students could type their names, the name of the course, then their prelim,\r\n",
        "midterm, and final grade.\r\n",
        "The program should print the semestral grade in 2 decimal points and should\r\n",
        "display the following emojis depending on the situation:\r\n",
        "happy - when grade is greater than 70.00\r\n",
        "laughing - when grade is exactly 70.00\r\n",
        "sad - when grade is below 70.00\r\n",
        "'''\r\n",
        "happy, lol, sad = \"\\U0001F600\",\"\\U0001F923\",\"\\U0001F619\""
      ],
      "execution_count": null,
      "outputs": []
    },
    {
      "cell_type": "code",
      "metadata": {
        "colab": {
          "base_uri": "https://localhost:8080/",
          "height": 0
        },
        "id": "YZma99T-azo6",
        "outputId": "1cb3b377-367d-49b6-e921-186031cc5f82"
      },
      "source": [
        "def semgrade(): ##creating a function for computing the sem grade\r\n",
        "    w_pg, w_mg, w_fg = 0.3, 0.3, 0.4  ## The weight of grades\r\n",
        "    stud_Name = input(\"Type the students name: \")\r\n",
        "    course = input(\"Type your course: \")\r\n",
        "    p_Grade = float(input(\"Enter prelim grade: \"))\r\n",
        "    m_Grade = float(input(\"Enter midterm grade: \"))\r\n",
        "    f_Grade = float(input(\"Enter finals grade: \"))\r\n",
        "    sem_Grade = p_Grade*w_pg+m_Grade*w_mg+f_Grade*w_fg  ##Computation for semestral grade\r\n",
        "    print(f\"Hello {stud_Name}, your semestral grade is: {round(sem_Grade,2)}\") ##F-string type of printing. I use round function to limit the decimal places into 2.\r\n",
        "    if (sem_Grade >=71):  ##If the computed grade is greater than or equal to 71, it will print a happy face.\r\n",
        "      print(\"\\U0001F600\")\r\n",
        "    elif (sem_Grade == 70): ##If the computed grade is equal to 70, it will print a laughing face.\r\n",
        "      print(\"\\U0001F923\")\r\n",
        "    else:   ##If the computed grade is less than 70, it will print a sad face\r\n",
        "      print(\"\\U0001F619\")\r\n",
        "semgrade()  ## return value of semgrade."
      ],
      "execution_count": 43,
      "outputs": [
        {
          "output_type": "stream",
          "text": [
            "Type the students name: nica\n",
            "Type your course: cpe\n",
            "Enter prelim grade: 75.73\n",
            "Enter midterm grade: 75.52\n",
            "Enter finals grade: 75.99\n",
            "Hello nica, your semestral grade is: 75.77\n",
            "😀\n"
          ],
          "name": "stdout"
        }
      ]
    },
    {
      "cell_type": "markdown",
      "metadata": {
        "id": "kS-tRq3fQi9Y"
      },
      "source": [
        "##Reference\r\n",
        "[1] Tutorials Point (2021). [***Python - Variable Types***](https://www.tutorialspoint.com/python/python_variable_types.htm)\r\n",
        "\r\n",
        "[2] GeeksforGeeks (2020). [***GeeksforGeeks: Python Operators***](https://www.geeksforgeeks.org/python-operators/)\r\n",
        "\r\n",
        "[3] GeeksforGeeks (2020). [***GeeksforGeeks: Assignment Operators in Python***](https://www.geeksforgeeks.org/assignment-operators-in-python/)\r\n",
        "\r\n",
        "[4] Tutorials Point (2021). [***Python - Basic Operators***](https://www.tutorialspoint.com/python/python_basic_operators.htm)\r\n",
        "\r\n",
        "[5] GeeksforGeeks (2020). [***GeeksforGeeks: Python Logical Operators with Examples***](https://www.geeksforgeeks.org/python-logical-operators-with-examples-improvement-needed/)\r\n",
        "\r\n",
        "[6] Whatis.com. [***logic gate (AND, OR, XOR, NOT, NAND, NOR and XNOR)***](https://whatis.techtarget.com/definition/logic-gate-AND-OR-XOR-NOT-NAND-NOR-and-XNOR?vgnextfmt=print#xor)\r\n",
        "\r\n",
        "[7] Programiz. [***Python Input, Output and Import***](https://www.programiz.com/python-programming/input-output-import)\r\n",
        "\r\n",
        "[8] Programiz. [***Python while Loop***](https://www.programiz.com/python-programming/while-loop)\r\n",
        "\r\n",
        "[9] Programiz. [***Python for Loop***](https://www.programiz.com/python-programming/for-loop)\r\n",
        "\r\n",
        "[10] w3schools.com (2021). [***Python Functions***](https://www.w3schools.com/python/python_functions.asp#:~:text=A%20function%20is%20a%20block,return%20data%20as%20a%20result.)\r\n",
        "\r\n",
        "[11]  W3 Schools (2021). [***W3 Schools: Python Lambda***](https://www.w3schools.com/python/python_lambda.asp)\r\n",
        "\r\n",
        "[12] Kite. [***How to limit a float to two decimal places in Python***](https://www.kite.com/python/answers/how-to-limit-a-float-to-two-decimal-places-in-python)"
      ]
    }
  ]
}